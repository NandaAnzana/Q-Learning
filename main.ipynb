{
 "cells": [
  {
   "cell_type": "markdown",
   "metadata": {},
   "source": [
    "# Q-Learning"
   ]
  },
  {
   "cell_type": "markdown",
   "metadata": {},
   "source": [
    "By : [Nanda Anzana](https://www.linkedin.com/in/nanda-anzana)\n",
    "\n",
    "\n",
    "You can access the docs for openai gym in [here](https://gym.openai.com/)."
   ]
  },
  {
   "cell_type": "code",
   "execution_count": 1,
   "metadata": {},
   "outputs": [],
   "source": [
    "import numpy as np\n",
    "import gym\n",
    "import random\n",
    "from IPython.display import clear_output\n",
    "from src import train as tr\n",
    "from time import sleep\n",
    "import copy\n",
    "\n",
    "random.seed(123)"
   ]
  },
  {
   "cell_type": "code",
   "execution_count": 2,
   "metadata": {},
   "outputs": [],
   "source": [
    "env = gym.make('Taxi-v3')\n",
    "env.reset()"
   ]
  },
  {
   "cell_type": "code",
   "execution_count": 3,
   "metadata": {
    "scrolled": true
   },
   "outputs": [
    {
     "name": "stdout",
     "output_type": "stream",
     "text": [
      "Episode : 1\n",
      "\n",
      "\n",
      "Before\n",
      "+---------+\n",
      "|\u001b[34;1mR\u001b[0m: | : :G|\n",
      "| : | : : |\n",
      "|\u001b[43m \u001b[0m: : : : |\n",
      "| | : | : |\n",
      "|\u001b[35mY\u001b[0m| : |B: |\n",
      "+---------+\n",
      "  (Pickup)\n",
      "\n"
     ]
    }
   ],
   "source": [
    "for i in range(1):\n",
    "    state = env.reset()\n",
    "    list_state.append(state)\n",
    "    for _ in range(10):\n",
    "        action_before = env.action_space.sample()\n",
    "        next_state, reward, done, info = env.step(action_before)\n",
    "        clear_output(wait=True)\n",
    "        print(\"Episode : {}\\n\\n\".format(i+1))\n",
    "        print(\"Before\")\n",
    "        print(env.render(mode='ansi'))\n",
    "        sleep(.1)"
   ]
  },
  {
   "cell_type": "code",
   "execution_count": 4,
   "metadata": {
    "scrolled": true
   },
   "outputs": [
    {
     "name": "stdout",
     "output_type": "stream",
     "text": [
      "Episode : 10\n",
      "\n",
      "\n",
      "After training\n",
      "+---------+\n",
      "|R: | : :G|\n",
      "| : | : : |\n",
      "| : : : : |\n",
      "| | : | : |\n",
      "|\u001b[35m\u001b[34;1m\u001b[43mY\u001b[0m\u001b[0m\u001b[0m| : |B: |\n",
      "+---------+\n",
      "  (Dropoff)\n",
      "\n"
     ]
    }
   ],
   "source": [
    "tr.train_taxi()\n",
    "with open('model.npy', 'rb') as f:\n",
    "    model = np.load(f)\n",
    "    \n",
    "for i in range(10):\n",
    "    env.reset()\n",
    "    done = False\n",
    "    while not done:\n",
    "        action_after = np.argmax(model[state])\n",
    "        next_state, reward, done, info = env.step(action_after)\n",
    "        state = next_state\n",
    "        clear_output(wait=True)\n",
    "        print(\"Episode : {}\\n\\n\".format(i+1))\n",
    "        print(\"After training\")\n",
    "        print(env.render(mode='ansi'))\n",
    "        sleep(.5)"
   ]
  },
  {
   "cell_type": "markdown",
   "metadata": {},
   "source": [
    "## <center> Thanks </center>"
   ]
  }
 ],
 "metadata": {
  "kernelspec": {
   "display_name": "Python 3",
   "language": "python",
   "name": "python3"
  },
  "language_info": {
   "codemirror_mode": {
    "name": "ipython",
    "version": 3
   },
   "file_extension": ".py",
   "mimetype": "text/x-python",
   "name": "python",
   "nbconvert_exporter": "python",
   "pygments_lexer": "ipython3",
   "version": "3.7.7"
  }
 },
 "nbformat": 4,
 "nbformat_minor": 4
}
